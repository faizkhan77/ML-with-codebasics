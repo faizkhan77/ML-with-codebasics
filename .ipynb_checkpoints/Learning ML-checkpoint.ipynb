{
 "cells": [
  {
   "cell_type": "markdown",
   "id": "5d6c2cab",
   "metadata": {},
   "source": [
    "# Machine Learning"
   ]
  },
  {
   "cell_type": "markdown",
   "id": "bbd58683",
   "metadata": {},
   "source": [
    "### Importing important modules and libraries"
   ]
  },
  {
   "cell_type": "code",
   "execution_count": 90,
   "id": "def317ed",
   "metadata": {},
   "outputs": [],
   "source": [
    "import pandas as pd\n",
    "import numpy as np\n",
    "import seaborn as sn\n",
    "import matplotlib.pyplot as plt\n",
    "from sklearn.datasets import load_diabetes\n",
    "from sklearn.linear_model import LogisticRegression\n",
    "from sklearn.tree import DecisionTreeClassifier\n",
    "from sklearn.ensemble import RandomForestClassifier\n",
    "from sklearn.svm import SVC\n",
    "from sklearn.model_selection import cross_val_score\n",
    "from sklearn.model_selection import StratifiedKFold\n",
    "from sklearn.model_selection import train_test_split"
   ]
  },
  {
   "cell_type": "markdown",
   "id": "48a18eaa",
   "metadata": {},
   "source": [
    "### Loading dataset"
   ]
  },
  {
   "cell_type": "code",
   "execution_count": 91,
   "id": "2671d004",
   "metadata": {},
   "outputs": [],
   "source": [
    "data = load_diabetes()"
   ]
  },
  {
   "cell_type": "markdown",
   "id": "113bc27c",
   "metadata": {},
   "source": [
    "### Checking the data attributes"
   ]
  },
  {
   "cell_type": "code",
   "execution_count": 92,
   "id": "ef821c92",
   "metadata": {},
   "outputs": [
    {
     "data": {
      "text/plain": [
       "['DESCR',\n",
       " 'data',\n",
       " 'data_filename',\n",
       " 'data_module',\n",
       " 'feature_names',\n",
       " 'frame',\n",
       " 'target',\n",
       " 'target_filename']"
      ]
     },
     "execution_count": 92,
     "metadata": {},
     "output_type": "execute_result"
    }
   ],
   "source": [
    "dir(data)"
   ]
  },
  {
   "cell_type": "markdown",
   "id": "cca05642",
   "metadata": {},
   "source": [
    "### Data Description"
   ]
  },
  {
   "cell_type": "code",
   "execution_count": 93,
   "id": "630d65ba",
   "metadata": {},
   "outputs": [
    {
     "name": "stdout",
     "output_type": "stream",
     "text": [
      ".. _diabetes_dataset:\n",
      "\n",
      "Diabetes dataset\n",
      "----------------\n",
      "\n",
      "Ten baseline variables, age, sex, body mass index, average blood\n",
      "pressure, and six blood serum measurements were obtained for each of n =\n",
      "442 diabetes patients, as well as the response of interest, a\n",
      "quantitative measure of disease progression one year after baseline.\n",
      "\n",
      "**Data Set Characteristics:**\n",
      "\n",
      "  :Number of Instances: 442\n",
      "\n",
      "  :Number of Attributes: First 10 columns are numeric predictive values\n",
      "\n",
      "  :Target: Column 11 is a quantitative measure of disease progression one year after baseline\n",
      "\n",
      "  :Attribute Information:\n",
      "      - age     age in years\n",
      "      - sex\n",
      "      - bmi     body mass index\n",
      "      - bp      average blood pressure\n",
      "      - s1      tc, total serum cholesterol\n",
      "      - s2      ldl, low-density lipoproteins\n",
      "      - s3      hdl, high-density lipoproteins\n",
      "      - s4      tch, total cholesterol / HDL\n",
      "      - s5      ltg, possibly log of serum triglycerides level\n",
      "      - s6      glu, blood sugar level\n",
      "\n",
      "Note: Each of these 10 feature variables have been mean centered and scaled by the standard deviation times the square root of `n_samples` (i.e. the sum of squares of each column totals 1).\n",
      "\n",
      "Source URL:\n",
      "https://www4.stat.ncsu.edu/~boos/var.select/diabetes.html\n",
      "\n",
      "For more information see:\n",
      "Bradley Efron, Trevor Hastie, Iain Johnstone and Robert Tibshirani (2004) \"Least Angle Regression,\" Annals of Statistics (with discussion), 407-499.\n",
      "(https://web.stanford.edu/~hastie/Papers/LARS/LeastAngle_2002.pdf)\n",
      "\n"
     ]
    }
   ],
   "source": [
    "print(data.DESCR)"
   ]
  },
  {
   "cell_type": "markdown",
   "id": "477d273a",
   "metadata": {},
   "source": [
    "### Getting the features names"
   ]
  },
  {
   "cell_type": "code",
   "execution_count": 94,
   "id": "e70b09eb",
   "metadata": {},
   "outputs": [],
   "source": [
    "data.feature_names"
   ]
  },
  {
   "cell_type": "markdown",
   "id": "1f9580a3",
   "metadata": {},
   "source": [
    "### Getting the first data"
   ]
  },
  {
   "cell_type": "code",
   "execution_count": 95,
   "id": "8da1a43b",
   "metadata": {},
   "outputs": [],
   "source": [
    "data.data[0]"
   ]
  },
  {
   "cell_type": "markdown",
   "id": "c3cd3873",
   "metadata": {},
   "source": [
    "### Getting the first target variable"
   ]
  },
  {
   "cell_type": "code",
   "execution_count": 96,
   "id": "5ef11888",
   "metadata": {},
   "outputs": [],
   "source": [
    "data.target[0]"
   ]
  },
  {
   "cell_type": "code",
   "execution_count": 97,
   "id": "9bbebb44",
   "metadata": {},
   "outputs": [],
   "source": [
    "data.target"
   ]
  },
  {
   "cell_type": "markdown",
   "id": "e7cbc953",
   "metadata": {},
   "source": [
    "### Creating Pandas Dataframe"
   ]
  },
  {
   "cell_type": "code",
   "execution_count": 98,
   "id": "da6f68d2",
   "metadata": {},
   "outputs": [],
   "source": [
    "df = pd.DataFrame(data.data, columns=data.feature_names)"
   ]
  },
  {
   "cell_type": "markdown",
   "id": "c427a6eb",
   "metadata": {},
   "source": [
    "### Checking first 50 datas"
   ]
  },
  {
   "cell_type": "code",
   "execution_count": 99,
   "id": "d302a124",
   "metadata": {
    "scrolled": true
   },
   "outputs": [],
   "source": [
    "df.head(50)"
   ]
  },
  {
   "cell_type": "markdown",
   "id": "ad297d06",
   "metadata": {},
   "source": [
    "### Checking first 5 datas"
   ]
  },
  {
   "cell_type": "code",
   "execution_count": 100,
   "id": "74cdb785",
   "metadata": {},
   "outputs": [],
   "source": [
    "df.head()"
   ]
  },
  {
   "cell_type": "markdown",
   "id": "45265692",
   "metadata": {},
   "source": [
    "### Appending data target to the Dataframe"
   ]
  },
  {
   "cell_type": "code",
   "execution_count": 101,
   "id": "73aeceda",
   "metadata": {},
   "outputs": [],
   "source": [
    "df['target'] = data.target"
   ]
  },
  {
   "cell_type": "markdown",
   "id": "1f9a037d",
   "metadata": {},
   "source": [
    "### Checking the first 5 datas"
   ]
  },
  {
   "cell_type": "code",
   "execution_count": 102,
   "id": "67ad33b3",
   "metadata": {
    "scrolled": true
   },
   "outputs": [],
   "source": [
    "df.head()"
   ]
  },
  {
   "cell_type": "markdown",
   "id": "a0fc1b5f",
   "metadata": {},
   "source": [
    "### Shape of data"
   ]
  },
  {
   "cell_type": "code",
   "execution_count": 103,
   "id": "fc4f22cb",
   "metadata": {},
   "outputs": [],
   "source": [
    "df.shape"
   ]
  },
  {
   "cell_type": "markdown",
   "id": "15d12da6",
   "metadata": {},
   "source": [
    "### Data Description"
   ]
  },
  {
   "cell_type": "code",
   "execution_count": 104,
   "id": "64a74a99",
   "metadata": {},
   "outputs": [],
   "source": [
    "df.describe()"
   ]
  },
  {
   "cell_type": "markdown",
   "id": "d230dff7",
   "metadata": {},
   "source": [
    "### Data Information"
   ]
  },
  {
   "cell_type": "code",
   "execution_count": 105,
   "id": "3b0baaa7",
   "metadata": {},
   "outputs": [],
   "source": [
    "df.info()"
   ]
  },
  {
   "cell_type": "markdown",
   "id": "1cd330a6",
   "metadata": {},
   "source": [
    "### Data Correlation"
   ]
  },
  {
   "cell_type": "code",
   "execution_count": 106,
   "id": "007184b2",
   "metadata": {},
   "outputs": [],
   "source": [
    "df.corr()"
   ]
  },
  {
   "cell_type": "markdown",
   "id": "66be543e",
   "metadata": {},
   "source": [
    "### Checking correlation from highest to lowest on the basis of bmi and bp column"
   ]
  },
  {
   "cell_type": "code",
   "execution_count": 107,
   "id": "95ab4ca6",
   "metadata": {
    "scrolled": true
   },
   "outputs": [],
   "source": [
    "df.corr()['bmi'].sort_values(ascending=False)"
   ]
  },
  {
   "cell_type": "code",
   "execution_count": 108,
   "id": "7fad6d63",
   "metadata": {},
   "outputs": [],
   "source": [
    "df.corr()['bp'].sort_values(ascending=False)"
   ]
  },
  {
   "cell_type": "markdown",
   "id": "098c8185",
   "metadata": {},
   "source": [
    "### Splitting data into X and y variables"
   ]
  },
  {
   "cell_type": "code",
   "execution_count": 109,
   "id": "1ec39763",
   "metadata": {},
   "outputs": [],
   "source": [
    "X = df.drop(['target'], axis=1)\n",
    "y = df['target']"
   ]
  },
  {
   "cell_type": "markdown",
   "id": "9f32f401",
   "metadata": {},
   "source": [
    "### Checking X and y "
   ]
  },
  {
   "cell_type": "code",
   "execution_count": 110,
   "id": "cbe8e7cb",
   "metadata": {},
   "outputs": [],
   "source": [
    "X.head()"
   ]
  },
  {
   "cell_type": "code",
   "execution_count": 111,
   "id": "a0f49641",
   "metadata": {},
   "outputs": [],
   "source": [
    "y.head()"
   ]
  },
  {
   "cell_type": "markdown",
   "id": "73cb26a0",
   "metadata": {},
   "source": [
    "### Splitting data into Training and Testing dataset"
   ]
  },
  {
   "cell_type": "code",
   "execution_count": 112,
   "id": "c2a0376b",
   "metadata": {},
   "outputs": [],
   "source": [
    "X_train, X_test, y_train, y_test = train_test_split(X, y, test_size=0.25)"
   ]
  },
  {
   "cell_type": "markdown",
   "id": "6ccd35d6",
   "metadata": {},
   "source": [
    "### Checking length of both Training and Testing set"
   ]
  },
  {
   "cell_type": "code",
   "execution_count": 113,
   "id": "bdff75fd",
   "metadata": {},
   "outputs": [],
   "source": [
    "len(X_train)"
   ]
  },
  {
   "cell_type": "code",
   "execution_count": 114,
   "id": "c47fa405",
   "metadata": {},
   "outputs": [],
   "source": [
    "len(X_test)"
   ]
  },
  {
   "cell_type": "markdown",
   "id": "69178a03",
   "metadata": {},
   "source": [
    "# MACHINE LEARNING"
   ]
  },
  {
   "cell_type": "code",
   "execution_count": 115,
   "id": "c25d7a40",
   "metadata": {},
   "outputs": [],
   "source": [
    "kf = StratifiedKFold(n_splits=5)"
   ]
  },
  {
   "cell_type": "code",
   "execution_count": 116,
   "id": "4a050f4f",
   "metadata": {},
   "outputs": [],
   "source": [
    "kf"
   ]
  },
  {
   "cell_type": "code",
   "execution_count": 117,
   "id": "7b17d59d",
   "metadata": {},
   "outputs": [],
   "source": [
    "lr = cross_val_score(LogisticRegression(), X, y, cv=kf)\n",
    "lr"
   ]
  },
  {
   "cell_type": "code",
   "execution_count": null,
   "id": "16cfa5aa",
   "metadata": {},
   "outputs": [],
   "source": []
  }
 ],
 "metadata": {
  "kernelspec": {
   "display_name": "Python 3 (ipykernel)",
   "language": "python",
   "name": "python3"
  },
  "language_info": {
   "codemirror_mode": {
    "name": "ipython",
    "version": 3
   },
   "file_extension": ".py",
   "mimetype": "text/x-python",
   "name": "python",
   "nbconvert_exporter": "python",
   "pygments_lexer": "ipython3",
   "version": "3.11.1"
  }
 },
 "nbformat": 4,
 "nbformat_minor": 5
}
