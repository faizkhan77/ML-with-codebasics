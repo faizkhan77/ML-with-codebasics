{
 "cells": [
  {
   "cell_type": "markdown",
   "id": "0f5e6cab",
   "metadata": {},
   "source": [
    "# Exercise 5"
   ]
  },
  {
   "cell_type": "markdown",
   "id": "987365af",
   "metadata": {},
   "source": [
    "Use SKLearn Iris flower dataset to train your model using Logistic Regression. You need to figure out accuracy of your model and use that to predict different samples in your test dataset. In iris dataset there are 150 samples containing following features\n",
    "\n",
    "1. Sepal length\n",
    "2. Sepal width\n",
    "3. Petal length\n",
    "4. Petal width\n",
    "\n",
    "Use above 4 features and classify the flower in one of the three categories\n",
    "\n",
    "1. Setosa\n",
    "2. Versicolour\n",
    "3. Virginica"
   ]
  },
  {
   "cell_type": "markdown",
   "id": "afc67c00",
   "metadata": {},
   "source": [
    "### Importing all libraries"
   ]
  },
  {
   "cell_type": "code",
   "execution_count": 15,
   "id": "c40920c6",
   "metadata": {},
   "outputs": [],
   "source": [
    "import pandas as pd\n",
    "import matplotlib.pyplot as plt\n",
    "import seaborn as sn\n",
    "import numpy as np\n",
    "from sklearn.linear_model import LogisticRegression\n",
    "from sklearn.datasets import load_iris\n",
    "from sklearn.model_selection import train_test_split"
   ]
  },
  {
   "cell_type": "markdown",
   "id": "e641f88a",
   "metadata": {},
   "source": [
    "### Loading Dataset"
   ]
  },
  {
   "cell_type": "code",
   "execution_count": 16,
   "id": "bb5730aa",
   "metadata": {},
   "outputs": [],
   "source": [
    "data = load_iris()"
   ]
  },
  {
   "cell_type": "code",
   "execution_count": 17,
   "id": "b16335b0",
   "metadata": {},
   "outputs": [
    {
     "data": {
      "text/plain": [
       "['DESCR',\n",
       " 'data',\n",
       " 'data_module',\n",
       " 'feature_names',\n",
       " 'filename',\n",
       " 'frame',\n",
       " 'target',\n",
       " 'target_names']"
      ]
     },
     "execution_count": 17,
     "metadata": {},
     "output_type": "execute_result"
    }
   ],
   "source": [
    "dir(data)"
   ]
  },
  {
   "cell_type": "markdown",
   "id": "fb2b1e10",
   "metadata": {},
   "source": [
    "### Checking data at index 0"
   ]
  },
  {
   "cell_type": "code",
   "execution_count": 25,
   "id": "17e8720b",
   "metadata": {},
   "outputs": [
    {
     "data": {
      "text/plain": [
       "array([5.1, 3.5, 1.4, 0.2])"
      ]
     },
     "execution_count": 25,
     "metadata": {},
     "output_type": "execute_result"
    }
   ],
   "source": [
    "data.data[0]"
   ]
  },
  {
   "cell_type": "markdown",
   "id": "d346d2e3",
   "metadata": {},
   "source": [
    "### Train, Test Splitting"
   ]
  },
  {
   "cell_type": "code",
   "execution_count": 36,
   "id": "df9c43de",
   "metadata": {},
   "outputs": [],
   "source": [
    "X_train, X_test, y_train, y_test = train_test_split(data.data, data.target, test_size=0.2)"
   ]
  },
  {
   "cell_type": "markdown",
   "id": "48c25274",
   "metadata": {},
   "source": [
    "### Creating Logistic Regression model"
   ]
  },
  {
   "cell_type": "code",
   "execution_count": 37,
   "id": "ace40275",
   "metadata": {},
   "outputs": [],
   "source": [
    "model = LogisticRegression()"
   ]
  },
  {
   "cell_type": "markdown",
   "id": "07181fa0",
   "metadata": {},
   "source": [
    "### Checking data at index 50"
   ]
  },
  {
   "cell_type": "code",
   "execution_count": 53,
   "id": "7103c760",
   "metadata": {},
   "outputs": [
    {
     "data": {
      "text/plain": [
       "array([7. , 3.2, 4.7, 1.4])"
      ]
     },
     "execution_count": 53,
     "metadata": {},
     "output_type": "execute_result"
    }
   ],
   "source": [
    "data.data[50]"
   ]
  },
  {
   "cell_type": "markdown",
   "id": "19bb1490",
   "metadata": {},
   "source": [
    "### Creating dataframe out of the data and adding class column that contains target value (Not necessary)"
   ]
  },
  {
   "cell_type": "code",
   "execution_count": 46,
   "id": "d9f7a41a",
   "metadata": {},
   "outputs": [
    {
     "data": {
      "text/html": [
       "<div>\n",
       "<style scoped>\n",
       "    .dataframe tbody tr th:only-of-type {\n",
       "        vertical-align: middle;\n",
       "    }\n",
       "\n",
       "    .dataframe tbody tr th {\n",
       "        vertical-align: top;\n",
       "    }\n",
       "\n",
       "    .dataframe thead th {\n",
       "        text-align: right;\n",
       "    }\n",
       "</style>\n",
       "<table border=\"1\" class=\"dataframe\">\n",
       "  <thead>\n",
       "    <tr style=\"text-align: right;\">\n",
       "      <th></th>\n",
       "      <th>0</th>\n",
       "      <th>1</th>\n",
       "      <th>2</th>\n",
       "      <th>3</th>\n",
       "      <th>Class</th>\n",
       "    </tr>\n",
       "  </thead>\n",
       "  <tbody>\n",
       "    <tr>\n",
       "      <th>0</th>\n",
       "      <td>5.1</td>\n",
       "      <td>3.5</td>\n",
       "      <td>1.4</td>\n",
       "      <td>0.2</td>\n",
       "      <td>0</td>\n",
       "    </tr>\n",
       "    <tr>\n",
       "      <th>1</th>\n",
       "      <td>4.9</td>\n",
       "      <td>3.0</td>\n",
       "      <td>1.4</td>\n",
       "      <td>0.2</td>\n",
       "      <td>0</td>\n",
       "    </tr>\n",
       "    <tr>\n",
       "      <th>2</th>\n",
       "      <td>4.7</td>\n",
       "      <td>3.2</td>\n",
       "      <td>1.3</td>\n",
       "      <td>0.2</td>\n",
       "      <td>0</td>\n",
       "    </tr>\n",
       "    <tr>\n",
       "      <th>3</th>\n",
       "      <td>4.6</td>\n",
       "      <td>3.1</td>\n",
       "      <td>1.5</td>\n",
       "      <td>0.2</td>\n",
       "      <td>0</td>\n",
       "    </tr>\n",
       "    <tr>\n",
       "      <th>4</th>\n",
       "      <td>5.0</td>\n",
       "      <td>3.6</td>\n",
       "      <td>1.4</td>\n",
       "      <td>0.2</td>\n",
       "      <td>0</td>\n",
       "    </tr>\n",
       "  </tbody>\n",
       "</table>\n",
       "</div>"
      ],
      "text/plain": [
       "     0    1    2    3  Class\n",
       "0  5.1  3.5  1.4  0.2      0\n",
       "1  4.9  3.0  1.4  0.2      0\n",
       "2  4.7  3.2  1.3  0.2      0\n",
       "3  4.6  3.1  1.5  0.2      0\n",
       "4  5.0  3.6  1.4  0.2      0"
      ]
     },
     "execution_count": 46,
     "metadata": {},
     "output_type": "execute_result"
    }
   ],
   "source": [
    "df = pd.DataFrame(data.data)\n",
    "df['Class'] = data.target\n",
    "df.head()"
   ]
  },
  {
   "cell_type": "markdown",
   "id": "97349d05",
   "metadata": {},
   "source": [
    "### Training the model"
   ]
  },
  {
   "cell_type": "code",
   "execution_count": 43,
   "id": "b1ea053b",
   "metadata": {},
   "outputs": [
    {
     "data": {
      "text/html": [
       "<style>#sk-container-id-1 {color: black;}#sk-container-id-1 pre{padding: 0;}#sk-container-id-1 div.sk-toggleable {background-color: white;}#sk-container-id-1 label.sk-toggleable__label {cursor: pointer;display: block;width: 100%;margin-bottom: 0;padding: 0.3em;box-sizing: border-box;text-align: center;}#sk-container-id-1 label.sk-toggleable__label-arrow:before {content: \"▸\";float: left;margin-right: 0.25em;color: #696969;}#sk-container-id-1 label.sk-toggleable__label-arrow:hover:before {color: black;}#sk-container-id-1 div.sk-estimator:hover label.sk-toggleable__label-arrow:before {color: black;}#sk-container-id-1 div.sk-toggleable__content {max-height: 0;max-width: 0;overflow: hidden;text-align: left;background-color: #f0f8ff;}#sk-container-id-1 div.sk-toggleable__content pre {margin: 0.2em;color: black;border-radius: 0.25em;background-color: #f0f8ff;}#sk-container-id-1 input.sk-toggleable__control:checked~div.sk-toggleable__content {max-height: 200px;max-width: 100%;overflow: auto;}#sk-container-id-1 input.sk-toggleable__control:checked~label.sk-toggleable__label-arrow:before {content: \"▾\";}#sk-container-id-1 div.sk-estimator input.sk-toggleable__control:checked~label.sk-toggleable__label {background-color: #d4ebff;}#sk-container-id-1 div.sk-label input.sk-toggleable__control:checked~label.sk-toggleable__label {background-color: #d4ebff;}#sk-container-id-1 input.sk-hidden--visually {border: 0;clip: rect(1px 1px 1px 1px);clip: rect(1px, 1px, 1px, 1px);height: 1px;margin: -1px;overflow: hidden;padding: 0;position: absolute;width: 1px;}#sk-container-id-1 div.sk-estimator {font-family: monospace;background-color: #f0f8ff;border: 1px dotted black;border-radius: 0.25em;box-sizing: border-box;margin-bottom: 0.5em;}#sk-container-id-1 div.sk-estimator:hover {background-color: #d4ebff;}#sk-container-id-1 div.sk-parallel-item::after {content: \"\";width: 100%;border-bottom: 1px solid gray;flex-grow: 1;}#sk-container-id-1 div.sk-label:hover label.sk-toggleable__label {background-color: #d4ebff;}#sk-container-id-1 div.sk-serial::before {content: \"\";position: absolute;border-left: 1px solid gray;box-sizing: border-box;top: 0;bottom: 0;left: 50%;z-index: 0;}#sk-container-id-1 div.sk-serial {display: flex;flex-direction: column;align-items: center;background-color: white;padding-right: 0.2em;padding-left: 0.2em;position: relative;}#sk-container-id-1 div.sk-item {position: relative;z-index: 1;}#sk-container-id-1 div.sk-parallel {display: flex;align-items: stretch;justify-content: center;background-color: white;position: relative;}#sk-container-id-1 div.sk-item::before, #sk-container-id-1 div.sk-parallel-item::before {content: \"\";position: absolute;border-left: 1px solid gray;box-sizing: border-box;top: 0;bottom: 0;left: 50%;z-index: -1;}#sk-container-id-1 div.sk-parallel-item {display: flex;flex-direction: column;z-index: 1;position: relative;background-color: white;}#sk-container-id-1 div.sk-parallel-item:first-child::after {align-self: flex-end;width: 50%;}#sk-container-id-1 div.sk-parallel-item:last-child::after {align-self: flex-start;width: 50%;}#sk-container-id-1 div.sk-parallel-item:only-child::after {width: 0;}#sk-container-id-1 div.sk-dashed-wrapped {border: 1px dashed gray;margin: 0 0.4em 0.5em 0.4em;box-sizing: border-box;padding-bottom: 0.4em;background-color: white;}#sk-container-id-1 div.sk-label label {font-family: monospace;font-weight: bold;display: inline-block;line-height: 1.2em;}#sk-container-id-1 div.sk-label-container {text-align: center;}#sk-container-id-1 div.sk-container {/* jupyter's `normalize.less` sets `[hidden] { display: none; }` but bootstrap.min.css set `[hidden] { display: none !important; }` so we also need the `!important` here to be able to override the default hidden behavior on the sphinx rendered scikit-learn.org. See: https://github.com/scikit-learn/scikit-learn/issues/21755 */display: inline-block !important;position: relative;}#sk-container-id-1 div.sk-text-repr-fallback {display: none;}</style><div id=\"sk-container-id-1\" class=\"sk-top-container\"><div class=\"sk-text-repr-fallback\"><pre>LogisticRegression()</pre><b>In a Jupyter environment, please rerun this cell to show the HTML representation or trust the notebook. <br />On GitHub, the HTML representation is unable to render, please try loading this page with nbviewer.org.</b></div><div class=\"sk-container\" hidden><div class=\"sk-item\"><div class=\"sk-estimator sk-toggleable\"><input class=\"sk-toggleable__control sk-hidden--visually\" id=\"sk-estimator-id-1\" type=\"checkbox\" checked><label for=\"sk-estimator-id-1\" class=\"sk-toggleable__label sk-toggleable__label-arrow\">LogisticRegression</label><div class=\"sk-toggleable__content\"><pre>LogisticRegression()</pre></div></div></div></div></div>"
      ],
      "text/plain": [
       "LogisticRegression()"
      ]
     },
     "execution_count": 43,
     "metadata": {},
     "output_type": "execute_result"
    }
   ],
   "source": [
    "model.fit(X_train, y_train)"
   ]
  },
  {
   "cell_type": "markdown",
   "id": "c5838e3f",
   "metadata": {},
   "source": [
    "### Checking accuracy score"
   ]
  },
  {
   "cell_type": "code",
   "execution_count": 45,
   "id": "a4b0a364",
   "metadata": {},
   "outputs": [
    {
     "data": {
      "text/plain": [
       "0.9"
      ]
     },
     "execution_count": 45,
     "metadata": {},
     "output_type": "execute_result"
    }
   ],
   "source": [
    "model.score(X_test, y_test)"
   ]
  },
  {
   "cell_type": "markdown",
   "id": "619305c2",
   "metadata": {},
   "source": [
    "### Predicting a specific value which i copied from index 50"
   ]
  },
  {
   "cell_type": "code",
   "execution_count": 54,
   "id": "9abd1ddf",
   "metadata": {},
   "outputs": [
    {
     "data": {
      "text/plain": [
       "array([1])"
      ]
     },
     "execution_count": 54,
     "metadata": {},
     "output_type": "execute_result"
    }
   ],
   "source": [
    "model.predict([[7. , 3.2, 4.7, 1.4]])"
   ]
  },
  {
   "cell_type": "markdown",
   "id": "9d77487c",
   "metadata": {},
   "source": [
    "### Predicting Test dataset and printing the actual and predicted value side by side then displaying how many wrong prediction we got"
   ]
  },
  {
   "cell_type": "code",
   "execution_count": 70,
   "id": "d4fc1cf2",
   "metadata": {
    "scrolled": true
   },
   "outputs": [
    {
     "name": "stdout",
     "output_type": "stream",
     "text": [
      "Actual 0, Predicted 0\n",
      "Actual 2, Predicted 1\n",
      "Actual 2, Predicted 2\n",
      "Actual 1, Predicted 2\n",
      "Actual 1, Predicted 1\n",
      "Actual 2, Predicted 2\n",
      "Actual 2, Predicted 2\n",
      "Actual 1, Predicted 1\n",
      "Actual 2, Predicted 2\n",
      "Actual 2, Predicted 2\n",
      "Actual 2, Predicted 2\n",
      "Actual 1, Predicted 1\n",
      "Actual 1, Predicted 1\n",
      "Actual 2, Predicted 2\n",
      "Actual 1, Predicted 1\n",
      "Actual 1, Predicted 1\n",
      "Actual 2, Predicted 1\n",
      "Actual 0, Predicted 0\n",
      "Actual 2, Predicted 2\n",
      "Actual 0, Predicted 0\n",
      "Actual 1, Predicted 1\n",
      "Actual 0, Predicted 0\n",
      "Actual 1, Predicted 1\n",
      "Actual 0, Predicted 0\n",
      "Actual 1, Predicted 1\n",
      "Actual 2, Predicted 2\n",
      "Actual 0, Predicted 0\n",
      "Actual 0, Predicted 0\n",
      "Actual 0, Predicted 0\n",
      "Actual 0, Predicted 0\n",
      "Wrong prediction count : 3\n"
     ]
    }
   ],
   "source": [
    "predict = model.predict(X_test)\n",
    "wrong_count = 0\n",
    "for i in range(len(predict)):\n",
    "    print(f\"Actual {y_test[i]}, Predicted {predict[i]}\")\n",
    "    if y_test[i] != predict[i]:\n",
    "        wrong_count += 1\n",
    "print(\"Wrong prediction count :\", wrong_count)"
   ]
  },
  {
   "cell_type": "markdown",
   "id": "351e5685",
   "metadata": {},
   "source": [
    "As you can see above, the model got 3 wrong.\n",
    "\n",
    "1. Actual value is 2, but predicted 1\n",
    "2. Actual value is 1, but predicted 2\n",
    "3. Actual value is 2, but predicted 1\n",
    "\n",
    "Now, using the confusion matrix plot, you can see that 2 times actual value was 2, but model predicted one, and 1 time actual value was 1, and model predicted 2"
   ]
  },
  {
   "cell_type": "markdown",
   "id": "e112ccb8",
   "metadata": {},
   "source": [
    "### Using Confusion Matrix to check where our model didnt perform well"
   ]
  },
  {
   "cell_type": "code",
   "execution_count": 75,
   "id": "05cb492c",
   "metadata": {},
   "outputs": [],
   "source": [
    "from sklearn.metrics import confusion_matrix"
   ]
  },
  {
   "cell_type": "code",
   "execution_count": 76,
   "id": "ef324b58",
   "metadata": {},
   "outputs": [],
   "source": [
    "cm = confusion_matrix(y_test, predict)"
   ]
  },
  {
   "cell_type": "markdown",
   "id": "4fb80b0d",
   "metadata": {},
   "source": [
    "### Plotting the confusion matrix"
   ]
  },
  {
   "cell_type": "code",
   "execution_count": 77,
   "id": "6b267f51",
   "metadata": {},
   "outputs": [
    {
     "data": {
      "text/plain": [
       "Text(95.72222222222221, 0.5, 'Actual')"
      ]
     },
     "execution_count": 77,
     "metadata": {},
     "output_type": "execute_result"
    },
    {
     "data": {
      "image/png": "[encoded data removed]",
      "text/plain": [
       "<Figure size 1000x700 with 2 Axes>"
      ]
     },
     "metadata": {},
     "output_type": "display_data"
    }
   ],
   "source": [
    "plt.figure(figsize=(10, 7))\n",
    "sn.heatmap(cm, annot=True)\n",
    "plt.xlabel('Predicted')\n",
    "plt.ylabel('Actual')"
   ]
  },
  {
   "cell_type": "code",
   "execution_count": null,
   "id": "10ce59ad",
   "metadata": {},
   "outputs": [],
   "source": []
  }
 ],
 "metadata": {
  "kernelspec": {
   "display_name": "Python 3 (ipykernel)",
   "language": "python",
   "name": "python3"
  },
  "language_info": {
   "codemirror_mode": {
    "name": "ipython",
    "version": 3
   },
   "file_extension": ".py",
   "mimetype": "text/x-python",
   "name": "python",
   "nbconvert_exporter": "python",
   "pygments_lexer": "ipython3",
   "version": "3.11.1"
  }
 },
 "nbformat": 4,
 "nbformat_minor": 5
}
